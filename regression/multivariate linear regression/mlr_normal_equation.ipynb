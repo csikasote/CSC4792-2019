{
 "cells": [
  {
   "cell_type": "code",
   "execution_count": 1,
   "metadata": {},
   "outputs": [],
   "source": [
    "# Common imports\n",
    "import numpy as np\n",
    "import pandas as pd"
   ]
  },
  {
   "cell_type": "code",
   "execution_count": 2,
   "metadata": {},
   "outputs": [
    {
     "name": "stdout",
     "output_type": "stream",
     "text": [
      "\n",
      "Number of records: 200\n",
      "\n",
      "\n",
      "       TV  radio  newspaper  sales\n",
      "1  230.1   37.8       69.2   22.1\n",
      "2   44.5   39.3       45.1   10.4\n",
      "3   17.2   45.9       69.3    9.3\n",
      "4  151.5   41.3       58.5   18.5\n",
      "5  180.8   10.8       58.4   12.9\n"
     ]
    }
   ],
   "source": [
    "# load the preprocessed iris dataset\n",
    "dataset = pd.read_csv('datasets/Advertising.csv', header=0, names=['TV', 'radio', 'newspaper', 'sales'])\n",
    "print('\\nNumber of records:',len(dataset))\n",
    "print('\\n\\n',dataset.head())"
   ]
  },
  {
   "cell_type": "code",
   "execution_count": 3,
   "metadata": {},
   "outputs": [],
   "source": [
    "# Setting up training data\n",
    "X = pd.DataFrame(dataset,columns=['TV','radio','newspaper']).values\n",
    "X = np.insert(X,0,1,axis=1)\n",
    "y = dataset['sales'].values"
   ]
  },
  {
   "cell_type": "code",
   "execution_count": 4,
   "metadata": {},
   "outputs": [],
   "source": [
    "def normal_equation(X,y):\n",
    "    return np.dot(np.dot(np.linalg.inv(np.dot(X.T,X)), X.T),y)"
   ]
  },
  {
   "cell_type": "code",
   "execution_count": 5,
   "metadata": {},
   "outputs": [
    {
     "name": "stdout",
     "output_type": "stream",
     "text": [
      "Model: Y = 2.939 + 0.046xTV + 0.189xRadio + -0.001xNewspaper\n"
     ]
    }
   ],
   "source": [
    "theta = normal_equation(X,y)\n",
    "print(\"Model: Y = %.3f + %.3fxTV + %.3fxRadio + %.3fxNewspaper\"%(theta[0],theta[1],theta[2],theta[3]))"
   ]
  }
 ],
 "metadata": {
  "kernelspec": {
   "display_name": "Python 3",
   "language": "python",
   "name": "python3"
  },
  "language_info": {
   "codemirror_mode": {
    "name": "ipython",
    "version": 3
   },
   "file_extension": ".py",
   "mimetype": "text/x-python",
   "name": "python",
   "nbconvert_exporter": "python",
   "pygments_lexer": "ipython3",
   "version": "3.7.3"
  }
 },
 "nbformat": 4,
 "nbformat_minor": 2
}
