{
 "cells": [
  {
   "cell_type": "code",
   "execution_count": 1,
   "metadata": {},
   "outputs": [],
   "source": [
    "## Import common python libraries\n",
    "import numpy as np\n",
    "import pandas as pd\n",
    "import os\n",
    "\n",
    "# For optimization\n",
    "from scipy import optimize as opt\n",
    "\n",
    "# Matplotlib for plotting figures\n",
    "import matplotlib as mpl\n",
    "import matplotlib.pyplot as plt\n",
    "\n",
    "%matplotlib inline\n",
    "\n",
    "# ignoring Numpy error\n",
    "np.seterr(all = 'ignore') \n",
    "\n",
    "# Where to save the figures\n",
    "EXERCISE_ROOT_DIR = \".\"\n",
    "IMAGES_PATH = os.path.join(EXERCISE_ROOT_DIR, \"images\")"
   ]
  },
  {
   "cell_type": "code",
   "execution_count": 2,
   "metadata": {},
   "outputs": [],
   "source": [
    "# The function allows images to be saved\n",
    "def save_fig(fig_id, tight_layout=True, fig_extension=\"png\", resolution=300):\n",
    "    path = os.path.join(IMAGES_PATH, fig_id + \".\" + fig_extension)\n",
    "    print(\"Saving figure\", fig_id)\n",
    "    if tight_layout:\n",
    "        plt.tight_layout()\n",
    "    plt.savefig(path, format=fig_extension, dpi=resolution)"
   ]
  },
  {
   "cell_type": "code",
   "execution_count": 3,
   "metadata": {},
   "outputs": [
    {
     "name": "stdout",
     "output_type": "stream",
     "text": [
      "\n",
      "Number of records: 150\n",
      "\n",
      "class domain: [0 1 2]\n",
      "\n",
      "\n",
      "    sepal length  sepal width  petal length  petal width  class\n",
      "0           5.1          3.5           1.4          0.2      0\n",
      "1           4.9          3.0           1.4          0.2      0\n",
      "2           4.7          3.2           1.3          0.2      0\n",
      "3           4.6          3.1           1.5          0.2      0\n",
      "4           5.0          3.6           1.4          0.2      0\n"
     ]
    }
   ],
   "source": [
    "# load the preprocessed iris dataset\n",
    "dataset = pd.read_csv('datasets/iris_process.data',\n",
    "                      delimiter=',',\n",
    "                      header=None, \n",
    "                      names=['sepal length', 'sepal width', 'petal length', 'petal width','class'])\n",
    "\n",
    "print('\\nNumber of records:',len(dataset))\n",
    "print('\\nclass domain:', dataset['class'].unique())\n",
    "print('\\n\\n',dataset.head())"
   ]
  },
  {
   "cell_type": "code",
   "execution_count": 4,
   "metadata": {},
   "outputs": [
    {
     "name": "stdout",
     "output_type": "stream",
     "text": [
      "The shape of X: (150, 2)\n",
      "The shape of y: (150,)\n"
     ]
    }
   ],
   "source": [
    "X = pd.DataFrame(dataset,columns=['petal length','petal width']).values\n",
    "y = dataset['class'].values\n",
    "print('The shape of X:',X.shape)\n",
    "print('The shape of y:',y.shape)"
   ]
  },
  {
   "cell_type": "code",
   "execution_count": 5,
   "metadata": {},
   "outputs": [],
   "source": [
    "def plot_dataset(X,y):\n",
    "    plt.scatter(X[y == 0, 0],X[y == 0, 1],\n",
    "                s=50, c='lightgreen',\n",
    "                marker='o', edgecolor='black',label='class 1')\n",
    "    plt.scatter(X[y == 1, 0],X[y == 1, 1],\n",
    "                s=50, c='blue',\n",
    "                marker='v', edgecolor='black',\n",
    "                label='class 2')\n",
    "    plt.scatter(X[y == 2, 0],X[y == 2, 1],\n",
    "                s=50, c='red',\n",
    "                marker='s', edgecolor='black',\n",
    "                label='class 3')\n",
    "    plt.tight_layout()\n",
    "    plt.xlabel(\"sepal length\", fontsize=14)\n",
    "    plt.ylabel(\"sepal width\", fontsize=14)"
   ]
  },
  {
   "cell_type": "code",
   "execution_count": 6,
   "metadata": {},
   "outputs": [
    {
     "name": "stdout",
     "output_type": "stream",
     "text": [
      "Saving figure training_data\n"
     ]
    },
    {
     "data": {
      "image/png": "[encoded data removed]",
      "text/plain": [
       "<Figure size 432x288 with 1 Axes>"
      ]
     },
     "metadata": {
      "needs_background": "light"
     },
     "output_type": "display_data"
    }
   ],
   "source": [
    "plt.figure(1)\n",
    "plt.title('Iris data: petal length vs. petal width')\n",
    "plot_dataset(X,y)\n",
    "plt.grid(True)\n",
    "plt.axis([0.0,8.0,0.0,3.0])\n",
    "plt.legend()\n",
    "save_fig(\"training_data\")\n",
    "plt.show()"
   ]
  },
  {
   "cell_type": "code",
   "execution_count": 7,
   "metadata": {},
   "outputs": [],
   "source": [
    "def sigmoid(z):\n",
    "    return 1/(1+ np.exp(-z))"
   ]
  },
  {
   "cell_type": "code",
   "execution_count": 8,
   "metadata": {},
   "outputs": [],
   "source": [
    "def z(x, theta):\n",
    "    return np.dot(x,theta)"
   ]
  },
  {
   "cell_type": "code",
   "execution_count": 9,
   "metadata": {},
   "outputs": [],
   "source": [
    "def objective_function(theta, X, y,Lambda):\n",
    "    h = z(X, theta)\n",
    "    y_hat = sigmoid(h)\n",
    "    error = (-1/len(y)) * (np.dot(y.T,np.log(y_hat)) + np.dot((1-y).T,np.log(1-y_hat)))\n",
    "    reg_term = (Lambda/(2*len(y))) * np.sum(np.dot(theta[1:].T,theta[1:]));\n",
    "    return  error + reg_term"
   ]
  },
  {
   "cell_type": "code",
   "execution_count": 10,
   "metadata": {},
   "outputs": [],
   "source": [
    "def gradient_function(theta, X, y, Lambda):\n",
    "    h = z(X, theta);\n",
    "    y_hat = sigmoid(h);\n",
    "    grad = (1/len(y)) * np.dot(X.T,(y_hat-y));\n",
    "    temp=theta\n",
    "    temp[0]=0\n",
    "    reg_term= temp * Lambda/len(y)\n",
    "    return grad + reg_term"
   ]
  },
  {
   "cell_type": "code",
   "execution_count": 11,
   "metadata": {},
   "outputs": [],
   "source": [
    "def fit(X, y, num_labels, Lambda):\n",
    "    X = np.insert(X,0,1,axis=1)\n",
    "    all_theta = np.zeros((num_labels, X.shape[1]))\n",
    "    print('\\nInitializing optimization process ...\\n')\n",
    "    for c in range(num_labels):\n",
    "        initial_theta= np.zeros((X.shape[1], 1));\n",
    "        logic_y = np.array([1 if x==c else 0 for x in y])\n",
    "        print('- Optimizing for class %d'% (c+1) +' ... DONE')\n",
    "        args=(X,logic_y,Lambda)\n",
    "        x0 = initial_theta\n",
    "        opts = {'maxiter' : None, 'disp' : False} \n",
    "        result = opt.minimize(objective_function, x0, jac=gradient_function, args=args, method='CG', options=opts)\n",
    "        all_theta[[c],:]= (result.x).T\n",
    "    return all_theta"
   ]
  },
  {
   "cell_type": "code",
   "execution_count": 12,
   "metadata": {},
   "outputs": [
    {
     "name": "stdout",
     "output_type": "stream",
     "text": [
      "\n",
      "Initializing optimization process ...\n",
      "\n",
      "- Optimizing for class 1 ... DONE\n",
      "- Optimizing for class 2 ... DONE\n",
      "- Optimizing for class 3 ... DONE\n"
     ]
    }
   ],
   "source": [
    "all_theta = fit(X, y, len(np.unique(y)), Lambda=1)"
   ]
  },
  {
   "cell_type": "code",
   "execution_count": 13,
   "metadata": {},
   "outputs": [],
   "source": [
    "def predict(X,all_theta):\n",
    "    X = np.insert(X,0,1,axis=1)\n",
    "    return np.argmax(z(X, all_theta.T), axis=1)"
   ]
  },
  {
   "cell_type": "code",
   "execution_count": 14,
   "metadata": {},
   "outputs": [
    {
     "name": "stdout",
     "output_type": "stream",
     "text": [
      "\n",
      "Unique elements in Prediction: [0 1 2]\n",
      "\n"
     ]
    }
   ],
   "source": [
    "y_hat = predict(X,all_theta)\n",
    "print('\\nUnique elements in Prediction: %s\\n'%(np.unique(y_hat)))"
   ]
  },
  {
   "cell_type": "code",
   "execution_count": 15,
   "metadata": {},
   "outputs": [
    {
     "name": "stdout",
     "output_type": "stream",
     "text": [
      "\n",
      "Accuracy: 96.67%\n",
      "\n"
     ]
    }
   ],
   "source": [
    "y_hat = predict(X,all_theta)\n",
    "correct = [1 if a == b else 0 for (a, b) in zip(y_hat, y)]\n",
    "accuracy = (sum(map(int, correct)) / float(len(correct)))\n",
    "print('\\nAccuracy: %.2f' % (accuracy * 100)+'%\\n')"
   ]
  },
  {
   "cell_type": "code",
   "execution_count": 16,
   "metadata": {},
   "outputs": [],
   "source": [
    "def plot_decision_boundary(X,y,all_theta):\n",
    "    fig, ax = plt.subplots()\n",
    "    plot_dataset(X,y)\n",
    "    x_vals = np.array(ax.get_xlim())\n",
    "    for theta in all_theta:\n",
    "        y_vals = -1 * np.divide(((np.multiply(theta[1],x_vals)) + theta[0]),theta[2])\n",
    "        plt.plot(x_vals, y_vals, '--',)\n",
    "    plt.grid(True)"
   ]
  },
  {
   "cell_type": "code",
   "execution_count": 17,
   "metadata": {},
   "outputs": [
    {
     "data": {
      "text/plain": [
       "<Figure size 432x288 with 0 Axes>"
      ]
     },
     "metadata": {},
     "output_type": "display_data"
    },
    {
     "data": {
      "image/png": "[encoded data removed]",
      "text/plain": [
       "<Figure size 432x288 with 1 Axes>"
      ]
     },
     "metadata": {
      "needs_background": "light"
     },
     "output_type": "display_data"
    }
   ],
   "source": [
    "plt.figure(2)\n",
    "plot_decision_boundary(X,y,all_theta)\n",
    "plt.title('Iris data: petal length vs. petal width')\n",
    "plt.axis([0.0,8.0,0.0,3.0])\n",
    "plt.legend(loc=\"upper left\")\n",
    "plt.show()"
   ]
  }
 ],
 "metadata": {
  "kernelspec": {
   "display_name": "Python 3",
   "language": "python",
   "name": "python3"
  },
  "language_info": {
   "codemirror_mode": {
    "name": "ipython",
    "version": 3
   },
   "file_extension": ".py",
   "mimetype": "text/x-python",
   "name": "python",
   "nbconvert_exporter": "python",
   "pygments_lexer": "ipython3",
   "version": "3.7.3"
  }
 },
 "nbformat": 4,
 "nbformat_minor": 2
}
