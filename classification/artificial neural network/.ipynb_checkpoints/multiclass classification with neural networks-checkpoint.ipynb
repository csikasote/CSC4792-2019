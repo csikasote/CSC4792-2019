{
 "cells": [
  {
   "cell_type": "code",
   "execution_count": 1,
   "metadata": {},
   "outputs": [],
   "source": [
    "## Import common python libraries\n",
    "import numpy as np\n",
    "import pandas as pd\n",
    "\n",
    "# For optimization\n",
    "from scipy import optimize as opt\n",
    "from utils import sigmoid,sigmoid_gradient,save_fig\n",
    "\n",
    "# Matplotlib for plotting figures\n",
    "import matplotlib as mpl\n",
    "import matplotlib.pyplot as plt\n",
    "\n",
    "seed = 1\n",
    "\n",
    "%matplotlib inline"
   ]
  },
  {
   "cell_type": "code",
   "execution_count": 2,
   "metadata": {},
   "outputs": [
    {
     "name": "stdout",
     "output_type": "stream",
     "text": [
      "\n",
      "Number of records: 150\n",
      "\n",
      "class domain: [0 1 2]\n",
      "\n",
      "\n",
      "    sepal length  sepal width  petal length  petal width  class\n",
      "0           5.1          3.5           1.4          0.2      0\n",
      "1           4.9          3.0           1.4          0.2      0\n",
      "2           4.7          3.2           1.3          0.2      0\n",
      "3           4.6          3.1           1.5          0.2      0\n",
      "4           5.0          3.6           1.4          0.2      0\n"
     ]
    }
   ],
   "source": [
    "# load the preprocessed iris dataset\n",
    "dataset = pd.read_csv('datasets/iris_process_multi_class.data',\n",
    "                      delimiter=',',\n",
    "                      header=None, \n",
    "                      names=['sepal length', 'sepal width', 'petal length', 'petal width','class'])\n",
    "\n",
    "print('\\nNumber of records:',len(dataset))\n",
    "print('\\nclass domain:', dataset['class'].unique())\n",
    "print('\\n\\n',dataset.head())"
   ]
  },
  {
   "cell_type": "code",
   "execution_count": 3,
   "metadata": {},
   "outputs": [],
   "source": [
    "X = pd.DataFrame(dataset,columns=['petal length','petal width']).values\n",
    "y = dataset['class'].values.reshape(-1,1)\n",
    "\n",
    "# Hyperparameter, regularization term, Lambda value\n",
    "Lambda = 1.00"
   ]
  },
  {
   "cell_type": "code",
   "execution_count": 4,
   "metadata": {},
   "outputs": [],
   "source": [
    "def plot_dataset(X,y):\n",
    "    plt.scatter(X[y == 0, 0],X[y == 0, 1],\n",
    "                s=50, c='lightgreen',\n",
    "                marker='o', edgecolor='black',label='class 1')\n",
    "    plt.scatter(X[y == 1, 0],X[y == 1, 1],\n",
    "                s=50, c='blue',\n",
    "                marker='v', edgecolor='black',\n",
    "                label='class 2')\n",
    "    plt.scatter(X[y == 2, 0],X[y == 2, 1],\n",
    "                s=50, c='red',\n",
    "                marker='s', edgecolor='black',\n",
    "                label='class 3')\n",
    "    plt.tight_layout()\n",
    "    plt.xlabel(\"petal length\", fontsize=14)\n",
    "    plt.ylabel(\"petal width\", fontsize=14)"
   ]
  },
  {
   "cell_type": "code",
   "execution_count": 5,
   "metadata": {},
   "outputs": [
    {
     "name": "stdout",
     "output_type": "stream",
     "text": [
      "Saving figure multi_class_training_data\n"
     ]
    },
    {
     "data": {
      "image/png": "[encoded data removed]",
      "text/plain": [
       "<Figure size 432x288 with 1 Axes>"
      ]
     },
     "metadata": {
      "needs_background": "light"
     },
     "output_type": "display_data"
    }
   ],
   "source": [
    "plt.figure(1)\n",
    "plt.title('Iris data: petal length vs. petal width')\n",
    "plot_dataset(X,y.ravel())\n",
    "plt.grid(True)\n",
    "plt.axis([1,7,0,3])\n",
    "plt.legend()\n",
    "save_fig(\"multi_class_training_data\")\n",
    "plt.show()"
   ]
  },
  {
   "cell_type": "code",
   "execution_count": 6,
   "metadata": {},
   "outputs": [],
   "source": [
    "def layer_sizes(X,y):\n",
    "    input_layer = X.shape[1]\n",
    "    hidden_layer = 10\n",
    "    output_layer = len(np.unique(y))\n",
    "    return input_layer, hidden_layer, output_layer"
   ]
  },
  {
   "cell_type": "code",
   "execution_count": 7,
   "metadata": {},
   "outputs": [],
   "source": [
    "def initialize_parameters(layer_in,layer_out):\n",
    "    np.random.seed(seed)\n",
    "    random_epsilon = np.sqrt(6) / np.sqrt(layer_in+layer_out)\n",
    "    return (np.random.random((layer_out, layer_in + 1)) *(2*random_epsilon)) - random_epsilon"
   ]
  },
  {
   "cell_type": "code",
   "execution_count": 8,
   "metadata": {},
   "outputs": [],
   "source": [
    "def feed_forward(X, theta):\n",
    "    # -------------------------------------------------------------\n",
    "    # Retrieving parameters\n",
    "    # -------------------------------------------------------------\n",
    "    W1 = theta[:(input_layer+1)*hidden_layer].reshape((hidden_layer,(input_layer+1)))\n",
    "    W2 = theta[(input_layer+1)*hidden_layer:].reshape((output_layer,(hidden_layer+1)))\n",
    "        \n",
    "    # -------------------------------------------------------------\n",
    "    # The Forward Propagation Implementation\n",
    "    # -------------------------------------------------------------\n",
    "    A1 = np.insert(X,0,1,axis=1)       \n",
    "    Z2 = np.dot(A1,W1.T)\n",
    "    A2 = np.insert(sigmoid(Z2),0,1,axis=1)\n",
    "    Z3 = np.dot(A2,W2.T)\n",
    "    A3 = sigmoid(Z3)\n",
    "    \n",
    "    # -------------------------------------------------------------\n",
    "    # Saving activations to dictionary\n",
    "    # -------------------------------------------------------------\n",
    "    cache = {\"A1\":A1,\n",
    "             \"Z2\":Z2, \n",
    "             \"A2\":A2, \n",
    "             \"Z3\":Z3,\n",
    "             \"A3\":A3}\n",
    "\n",
    "    return A3, cache"
   ]
  },
  {
   "cell_type": "code",
   "execution_count": 9,
   "metadata": {},
   "outputs": [],
   "source": [
    "def nn_cost_function(A3,y,theta,Lambda):\n",
    "    # --------------------------\n",
    "    # Retrieving parameters\n",
    "    # --------------------------\n",
    "    W1 = theta[:(input_layer+1)*hidden_layer].reshape((hidden_layer,(input_layer+1)))\n",
    "    W2 = theta[(input_layer+1)*hidden_layer:].reshape((output_layer,(hidden_layer+1)))\n",
    "    \n",
    "    # -------------------------------------------------------------\n",
    "    # Mapping vector y into a binary vector of 1's and 0's \n",
    "    # -------------------------------------------------------------\n",
    "    y_matrix = np.zeros((len(y), len(np.unique(y))))\n",
    "    for i in range(len(y)):\n",
    "        y_matrix[i, y[i] - 1] = 1\n",
    "    \n",
    "    # --------------------------\n",
    "    # cross-entropy loss function\n",
    "    # --------------------------\n",
    "    reg_term = (Lambda/(2*len(y))) * (np.sum(np.sum(np.square(W1[:,1:]))) + np.sum(np.sum(np.square(W2[:,1:])))) \n",
    "    return ((1/len(y) * np.sum(np.sum((np.multiply(-y_matrix,np.log(A3))- np.multiply((1-y_matrix),np.log(1-A3)))))) + reg_term)"
   ]
  },
  {
   "cell_type": "code",
   "execution_count": 10,
   "metadata": {},
   "outputs": [],
   "source": [
    "def backward_propagation(theta,cache,y,Lambda):\n",
    "    # --------------------------\n",
    "    # Retrieving parameters\n",
    "    # --------------------------\n",
    "    W1 = theta[:(input_layer+1)*hidden_layer].reshape((hidden_layer,(input_layer+1)))\n",
    "    W2 = theta[(input_layer+1)*hidden_layer:].reshape((output_layer,(hidden_layer+1)))\n",
    "    \n",
    "    # -------------------------------------------------------------\n",
    "    # Retrieving cached activations\n",
    "    # -------------------------------------------------------------\n",
    "    A1 = cache[\"A1\"]\n",
    "    Z2 = cache[\"Z2\"]\n",
    "    A2 = cache[\"A2\"]\n",
    "    Z3 = cache[\"Z3\"]\n",
    "    A3 = cache[\"A3\"]\n",
    "    \n",
    "    # -------------------------------------------------------------\n",
    "    # Mapping vector y into a binary vector of 1's and 0's \n",
    "    # -------------------------------------------------------------\n",
    "    y_matrix = np.zeros((len(y), len(np.unique(y))))\n",
    "    for i in range(len(y)):\n",
    "        y_matrix[i, y[i] - 1] = 1\n",
    "    \n",
    "    # -------------------------------------------------------------\n",
    "    # The Backward Propagation Implementation\n",
    "    # -------------------------------------------------------------\n",
    "    d3 = (A3 - y_matrix)\n",
    "    u  = sigmoid(Z2)\n",
    "    d2 = (Z3 - y).dot(W2[:,1:]) * sigmoid_gradient(u)\n",
    "    D1 = d2.T.dot(A1) / len(y)\n",
    "    D2 = d3.T.dot(A2) / len(y)\n",
    "    if Lambda!=0:\n",
    "        D1[:,1:] += (Lambda/len(y) * W1[:,1:])\n",
    "        D2[:,1:] += (Lambda/len(y) * W2[:,1:])\n",
    "\n",
    "    # Roll grads D1 and D2 back into 1D array\n",
    "    grads = np.concatenate((D1.reshape(((input_layer+1)*hidden_layer)),\n",
    "                            D2.reshape(((hidden_layer+1)*output_layer))))\n",
    "    return grads"
   ]
  },
  {
   "cell_type": "code",
   "execution_count": 11,
   "metadata": {},
   "outputs": [],
   "source": [
    "# Setting network structure\n",
    "input_layer,hidden_layer, output_layer = layer_sizes(X,y)\n",
    "    \n",
    "# Initialize and combine thetas\n",
    "theta_init = np.concatenate((initialize_parameters(input_layer,hidden_layer).reshape(((input_layer+1)*hidden_layer)),\n",
    "                             initialize_parameters(hidden_layer,output_layer).reshape(((hidden_layer+1)*output_layer))))"
   ]
  },
  {
   "cell_type": "code",
   "execution_count": 12,
   "metadata": {},
   "outputs": [],
   "source": [
    "def nn_model(theta,X,y,Lambda):\n",
    " \n",
    "    # Forward propagation\n",
    "    A3, cache = feed_forward(X, theta)\n",
    "\n",
    "    # cross-entropy loss function\n",
    "    cost = nn_cost_function(A3,y,theta,Lambda)\n",
    "    \n",
    "    # Backpropagation\n",
    "    grads = backward_propagation(theta,cache,y,Lambda) \n",
    "\n",
    "    return cost, grads"
   ]
  },
  {
   "cell_type": "code",
   "execution_count": 13,
   "metadata": {},
   "outputs": [],
   "source": [
    "def predict(X, theta):\n",
    "    A3 = feed_forward(X,theta)[0]\n",
    "    return np.argmax(A3, axis=1)"
   ]
  },
  {
   "cell_type": "code",
   "execution_count": 14,
   "metadata": {},
   "outputs": [],
   "source": [
    "def cost_function(theta,X,y,Lambda):\n",
    "    return nn_model(theta,X,y,Lambda)[0]"
   ]
  },
  {
   "cell_type": "code",
   "execution_count": 15,
   "metadata": {},
   "outputs": [
    {
     "name": "stdout",
     "output_type": "stream",
     "text": [
      "\n",
      "Initial cost: 1.9462448710044782\n"
     ]
    }
   ],
   "source": [
    "print(\"\\nInitial cost:\",cost_function(theta_init,X,y,Lambda))"
   ]
  },
  {
   "cell_type": "code",
   "execution_count": 16,
   "metadata": {},
   "outputs": [],
   "source": [
    "def gradient_function(theta,X,y,Lambda):\n",
    "    return nn_model(theta,X,y,Lambda)[1]"
   ]
  },
  {
   "cell_type": "code",
   "execution_count": 17,
   "metadata": {},
   "outputs": [],
   "source": [
    "def fit(theta_init,X,y,Lambda):\n",
    "    obj_func = lambda t: cost_function(t,X,y,Lambda);\n",
    "    result = opt.minimize(obj_func, x0=theta_init, method='BFGS')\n",
    "    return result.x, result.fun"
   ]
  },
  {
   "cell_type": "code",
   "execution_count": 18,
   "metadata": {},
   "outputs": [
    {
     "name": "stdout",
     "output_type": "stream",
     "text": [
      "Error (at minimum point): 0.587708\n"
     ]
    }
   ],
   "source": [
    "theta, error = fit(theta_init,X,y,Lambda);\n",
    "print(\"Error (at minimum point): %f\" %(error))"
   ]
  },
  {
   "cell_type": "code",
   "execution_count": 19,
   "metadata": {},
   "outputs": [
    {
     "name": "stdout",
     "output_type": "stream",
     "text": [
      "\n",
      "Unique elements in Prediction: [0 1 2]\n"
     ]
    }
   ],
   "source": [
    "prediction = predict(X, theta)\n",
    "print('\\nUnique elements in Prediction: %s'%(np.unique(prediction)))"
   ]
  },
  {
   "cell_type": "code",
   "execution_count": 20,
   "metadata": {},
   "outputs": [],
   "source": [
    "def nn_decision_boundary(X,theta):\n",
    "    # Set min and max values and give it some padding\n",
    "    x_min, x_max = X[:, 0].min() - 1, X[:, 0].max() + 1\n",
    "    y_min, y_max = X[:, 1].min() - 1, X[:, 1].max() + 1\n",
    "    # Generate a grid of points with distance h between them\n",
    "    xx, yy = np.meshgrid(np.arange(x_min, x_max, 0.01), np.arange(y_min, y_max, 0.01))\n",
    "    Z = predict(np.c_[xx.ravel(), yy.ravel()],theta)\n",
    "    Z = Z.reshape(xx.shape)\n",
    "    # Plot the contour and training examples\n",
    "    plt.contourf(xx, yy, Z, cmap=plt.cm.Spectral)"
   ]
  },
  {
   "cell_type": "code",
   "execution_count": 21,
   "metadata": {},
   "outputs": [
    {
     "name": "stdout",
     "output_type": "stream",
     "text": [
      "Saving figure multi_class_decision_boundary\n"
     ]
    },
    {
     "data": {
      "image/png": "[encoded data removed]",
      "text/plain": [
       "<Figure size 432x288 with 1 Axes>"
      ]
     },
     "metadata": {
      "needs_background": "light"
     },
     "output_type": "display_data"
    }
   ],
   "source": [
    "plt.figure(2)\n",
    "plt.title(\"Fig 2: Iris data: petal length vs. petal width (using ANN)\")\n",
    "nn_decision_boundary(X,theta)\n",
    "plot_dataset(X,y.ravel())\n",
    "plt.axis([1,7,0,3])\n",
    "plt.legend()\n",
    "save_fig(\"multi_class_decision_boundary\")\n",
    "plt.show()"
   ]
  }
 ],
 "metadata": {
  "kernelspec": {
   "display_name": "Python 3",
   "language": "python",
   "name": "python3"
  },
  "language_info": {
   "codemirror_mode": {
    "name": "ipython",
    "version": 3
   },
   "file_extension": ".py",
   "mimetype": "text/x-python",
   "name": "python",
   "nbconvert_exporter": "python",
   "pygments_lexer": "ipython3",
   "version": "3.7.3"
  }
 },
 "nbformat": 4,
 "nbformat_minor": 2
}
