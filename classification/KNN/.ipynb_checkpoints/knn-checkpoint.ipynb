{
 "cells": [
  {
   "cell_type": "code",
   "execution_count": 1,
   "metadata": {},
   "outputs": [],
   "source": [
    "# Import common python libraries\n",
    "import numpy as np\n",
    "import pandas as pd\n",
    "import os\n",
    "\n",
    "# Matplotlib for plotting figures\n",
    "import matplotlib as mpl\n",
    "import matplotlib.pyplot as plt\n",
    "\n",
    "# Where to save the figures\n",
    "EXERCISE_ROOT_DIR = \".\"\n",
    "IMAGES_PATH = os.path.join(EXERCISE_ROOT_DIR, \"images\")"
   ]
  },
  {
   "cell_type": "code",
   "execution_count": 2,
   "metadata": {},
   "outputs": [],
   "source": [
    "# The function allows images to be saved\n",
    "def save_fig(fig_id, tight_layout=True, fig_extension=\"png\", resolution=300):\n",
    "    path = os.path.join(IMAGES_PATH, fig_id + \".\" + fig_extension)\n",
    "    print(\"Saving figure\", fig_id)\n",
    "    if tight_layout:\n",
    "        plt.tight_layout()\n",
    "    plt.savefig(path, format=fig_extension, dpi=resolution)"
   ]
  },
  {
   "cell_type": "code",
   "execution_count": 3,
   "metadata": {},
   "outputs": [
    {
     "name": "stdout",
     "output_type": "stream",
     "text": [
      "\n",
      "Number of records: 150\n",
      "\n",
      "class domain: [0 1]\n",
      "\n",
      "\n",
      "    sepal length  sepal width  petal length  petal width  class\n",
      "0           5.1          3.5           1.4          0.2      0\n",
      "1           4.9          3.0           1.4          0.2      0\n",
      "2           4.7          3.2           1.3          0.2      0\n",
      "3           4.6          3.1           1.5          0.2      0\n",
      "4           5.0          3.6           1.4          0.2      0\n"
     ]
    }
   ],
   "source": [
    "# load the preprocessed iris dataset\n",
    "dataset = pd.read_csv('datasets/iris_process.data',\n",
    "                      delimiter=',',\n",
    "                      header=None, \n",
    "                      names=['sepal length', 'sepal width', 'petal length', 'petal width','class'])\n",
    "\n",
    "print('\\nNumber of records:',len(dataset))\n",
    "print('\\nclass domain:', dataset['class'].unique())\n",
    "print('\\n\\n',dataset.head())"
   ]
  },
  {
   "cell_type": "code",
   "execution_count": 4,
   "metadata": {},
   "outputs": [
    {
     "name": "stdout",
     "output_type": "stream",
     "text": [
      "The shape of X: (150, 2)\n",
      "The shape of y: (150,)\n"
     ]
    }
   ],
   "source": [
    "X = pd.DataFrame(dataset,columns=['sepal length','sepal width']).values\n",
    "y = dataset['class'].values\n",
    "print('The shape of X:',X.shape)\n",
    "print('The shape of y:',y.shape)"
   ]
  },
  {
   "cell_type": "code",
   "execution_count": 5,
   "metadata": {},
   "outputs": [],
   "source": [
    "def plot_dataset(X,y):\n",
    "    plt.scatter(X[y == 0, 0],X[y == 0, 1],\n",
    "                s=50, c='lightgreen',\n",
    "                marker='o', edgecolor='black',label='class 1')\n",
    "    plt.scatter(X[y == 1, 0],X[y == 1, 1],\n",
    "                s=50, c='orange',\n",
    "                marker='v', edgecolor='black',\n",
    "                label='class 2')\n",
    "    plt.legend(scatterpoints=1)\n",
    "    plt.tight_layout()\n",
    "    plt.xlabel(\"sepal length\", fontsize=14)\n",
    "    plt.ylabel(\"sepal width\", fontsize=14)\n",
    "    plt.axis([4.0,8.5,2.0,4.5])"
   ]
  },
  {
   "cell_type": "code",
   "execution_count": 6,
   "metadata": {},
   "outputs": [
    {
     "name": "stdout",
     "output_type": "stream",
     "text": [
      "Saving figure TR_DATASET\n"
     ]
    },
    {
     "data": {
      "image/png": "[encoded data removed]",
      "text/plain": [
       "<Figure size 432x288 with 1 Axes>"
      ]
     },
     "metadata": {
      "needs_background": "light"
     },
     "output_type": "display_data"
    }
   ],
   "source": [
    "plt.figure(1)\n",
    "plt.title('figure 1. Iris data: sepal length vs. sepal width')\n",
    "plot_dataset(X,y)\n",
    "plt.grid(True)\n",
    "save_fig(\"TR_DATASET\")\n",
    "plt.show()"
   ]
  },
  {
   "cell_type": "code",
   "execution_count": 7,
   "metadata": {},
   "outputs": [],
   "source": [
    "class KNearestNeighbor(object):\n",
    "    def __init__(self, k=None):\n",
    "        self.k = k\n",
    "\n",
    "    def train(self, X, y):\n",
    "        \"\"\" X is N x D where each row is an example. Y is 1-dimension of size N \"\"\"\n",
    "        self.X = X\n",
    "        self.y = y\n",
    "    def distance(self,Xtest):\n",
    "        \"\"\" Returns the L2 distance between the ith test example and jth training example\"\"\"\n",
    "        dists = np.zeros((Xtest.shape[0],self.X.shape[0]))\n",
    "        for i in range(Xtest.shape[0]):\n",
    "            for j in range(self.X.shape[0]):\n",
    "                dists[[i],[j]] = np.sqrt(np.sum(np.square(self.X[[j],:] - Xtest[[i],:]), axis=1))\n",
    "        return dists\n",
    "\n",
    "    def majority_vote(self, labels):\n",
    "        \"\"\" Return the most common class among the k nearest neighbors \"\"\"\n",
    "        return np.bincount(labels[0]).argmax()\n",
    "                      \n",
    "    def predict(self, Xtest):\n",
    "        \"\"\" Predicts the class to whcih the test example, 'Xtest' \"\"\"\n",
    "        y_hat = np.zeros((Xtest.shape[0]))\n",
    "        for i in range(Xtest.shape[0]):\n",
    "            k_nearest_neighbors = []\n",
    "            dists = self.distance(Xtest)\n",
    "            labels = self.y[np.argsort(dists[i])][:self.k]\n",
    "            k_nearest_neighbors.append(labels.tolist())\n",
    "            y_hat[i] = self.majority_vote(k_nearest_neighbors)\n",
    "        return y_hat"
   ]
  },
  {
   "cell_type": "code",
   "execution_count": 8,
   "metadata": {},
   "outputs": [
    {
     "name": "stdout",
     "output_type": "stream",
     "text": [
      "\n",
      "The test example belongs to class 1.0 (class 1 = 0 & class 2 = 1)\n"
     ]
    }
   ],
   "source": [
    "knn = KNearestNeighbor(k=3)\n",
    "knn.train(X, y)\n",
    "Xtest = np.array([[6.75, 4.25]])\n",
    "y_pred = knn.predict(Xtest)\n",
    "print('\\nThe test example belongs to class',y_pred[0], '(class 1 = 0 & class 2 = 1)')"
   ]
  }
 ],
 "metadata": {
  "kernelspec": {
   "display_name": "Python 3",
   "language": "python",
   "name": "python3"
  },
  "language_info": {
   "codemirror_mode": {
    "name": "ipython",
    "version": 3
   },
   "file_extension": ".py",
   "mimetype": "text/x-python",
   "name": "python",
   "nbconvert_exporter": "python",
   "pygments_lexer": "ipython3",
   "version": "3.7.3"
  }
 },
 "nbformat": 4,
 "nbformat_minor": 2
}
